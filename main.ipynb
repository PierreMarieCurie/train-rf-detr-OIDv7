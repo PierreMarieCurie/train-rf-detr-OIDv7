{
 "cells": [
  {
   "cell_type": "code",
   "execution_count": null,
   "id": "5939409d",
   "metadata": {},
   "outputs": [],
   "source": [
    "from rfdetr import RFDETRBase\n",
    "\n",
    "CHECKPOINT_PATH = \"results/snail/checkpoint_best_ema.pth\"\n",
    "model_tuned = RFDETRBase(pretrain_weights=CHECKPOINT_PATH)"
   ]
  },
  {
   "cell_type": "code",
   "execution_count": null,
   "id": "e241c049",
   "metadata": {},
   "outputs": [],
   "source": [
    "from PIL import Image, ImageDraw\n",
    "import os\n",
    "import random\n",
    "\n",
    "# Path to the folder\n",
    "folder_path = \"dataset/test\"\n",
    "\n",
    "# List all .jpg files (case-insensitive)\n",
    "jpg_files = [f for f in os.listdir(folder_path) if f.lower().endswith(\".jpg\")]\n",
    "\n",
    "# Choose a random file\n",
    "random_file = random.choice(jpg_files)\n",
    "\n",
    "# Full path to the selected file\n",
    "IMAGE_PATH = os.path.join(folder_path, random_file)\n",
    "\n",
    "image_plot = Image.open(IMAGE_PATH).convert(\"RGB\")\n",
    "\n",
    "detections = model_tuned.predict(image_plot)\n",
    "\n",
    "# Define bounding box in xyxy format: [x_min, y_min, x_max, y_max]\n",
    "bboxes = detections.xyxy.tolist()\n",
    "\n",
    "# Draw on image\n",
    "draw = ImageDraw.Draw(image_plot)\n",
    "for i, bbox in enumerate(bboxes):\n",
    "    draw.rectangle(bbox, outline=\"red\", width=3)\n",
    "    draw.text((bbox[0], bbox[1] - 10), str(detections.class_id[i]), fill=\"red\")\n",
    "\n",
    "# Show image\n",
    "image_plot"
   ]
  }
 ],
 "metadata": {
  "kernelspec": {
   "display_name": "Python 3 (ipykernel)",
   "language": "python",
   "name": "python3"
  },
  "language_info": {
   "codemirror_mode": {
    "name": "ipython",
    "version": 3
   },
   "file_extension": ".py",
   "mimetype": "text/x-python",
   "name": "python",
   "nbconvert_exporter": "python",
   "pygments_lexer": "ipython3",
   "version": "3.9.13"
  }
 },
 "nbformat": 4,
 "nbformat_minor": 5
}
